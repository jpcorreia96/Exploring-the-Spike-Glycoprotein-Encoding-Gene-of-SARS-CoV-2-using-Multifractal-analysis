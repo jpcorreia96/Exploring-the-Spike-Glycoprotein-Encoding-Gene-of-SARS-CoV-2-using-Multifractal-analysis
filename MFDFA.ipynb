{
 "cells": [
  {
   "cell_type": "code",
   "execution_count": null,
   "id": "c0dd2391-e8a2-4c37-83c8-03cc21ff339c",
   "metadata": {},
   "outputs": [],
   "source": [
    "# Import necessary libraries\n",
    "from MFDFA import MFDFA\n",
    "from MFDFA import singspect  # For singularity spectrum and scaling exponents calculations\n",
    "import pandas as pd\n",
    "import numpy as np\n",
    "import matplotlib.pyplot as plt\n",
    "\n",
    "# Load the time series data from the file\n",
    "data = pd.read_csv('caminhada.txt')  # Replace with the correct path if needed\n",
    "X = data.iloc[:, :].values.reshape(-1, 1)  # Convert data to a 1D array if required\n",
    "\n",
    "# Visualize the time series data\n",
    "plt.plot(X, color=\"blue\")\n",
    "plt.title(\"Time Series Data\")\n",
    "plt.xlabel(\"Index\")\n",
    "plt.ylabel(\"Value\")\n",
    "plt.show()\n"
   ]
  },
  {
   "cell_type": "code",
   "execution_count": null,
   "id": "54d179dc-2bc4-42a4-8b91-da84c099fe4c",
   "metadata": {},
   "outputs": [],
   "source": [
    "# Define the range of q values (multifractal powers)\n",
    "q_list = np.linspace(-15, 15, 59)  # Create q values from -15 to 15 with 59 steps\n",
    "q_list = q_list[q_list != 0.0]  # Remove q=0 (undefined for log-log scaling)\n",
    "\n",
    "# Define the polynomial fitting order for detrending\n",
    "order = 2\n",
    "\n",
    "# Calculate the (MF)DFA\n",
    "lag, dfa = MFDFA(X, lag=None, q=q_list, order=order, modified=True, extensions={'EMD': False, 'eDFA': False, 'window': False})\n",
    "\n",
    "# Plot the log-log graph of lag vs. DFA fluctuation function for all q values\n",
    "plt.loglog(lag, dfa.T, marker='o', linestyle='none')  # Transpose DFA for proper plotting\n",
    "plt.xlabel('Lag (s)')\n",
    "plt.ylabel('Fluctuation Function Fq(s)')\n",
    "plt.title(\"Log-Log Plot of Lag vs Fluctuation Function\")\n",
    "plt.grid(True)\n",
    "plt.show()\n",
    "\n"
   ]
  },
  {
   "cell_type": "code",
   "execution_count": null,
   "id": "4e9d38c8-3c9c-4469-92bc-5da54a589741",
   "metadata": {},
   "outputs": [],
   "source": [
    "# Calculate the Hurst exponents h(q) vs q\n",
    "qh, hq = singspect.hurst_exponents(lag, dfa, q=q_list)\n",
    "\n",
    "# Plot h(q) vs q\n",
    "singspect.hurst_exponents_plot(qh, hq)\n",
    "plt.title(\"Hurst Exponents h(q) vs q\")\n",
    "plt.savefig(\"hqvsq.png\")  # Save the plot to a file\n",
    "\n",
    "# Save Hurst exponents to a CSV file\n",
    "hurst_df = pd.DataFrame({'q': qh, 'h(q)': hq})\n",
    "hurst_df.to_csv('hqvsq.csv', index=False)\n",
    "\n",
    "# Calculate the singularity spectrum (α and f(α))\n",
    "alpha, falpha = singspect.singularity_spectrum(lag, dfa, q=q_list)\n",
    "\n",
    "# Plot the singularity spectrum\n",
    "singspect.singularity_spectrum_plot(alpha, falpha)\n",
    "plt.title(\"Singularity Spectrum\")\n",
    "plt.savefig(\"espectro.png\")  # Save the plot to a file\n",
    "\n",
    "# Save singularity spectrum values to a CSV file\n",
    "singularity_df = pd.DataFrame({'α': alpha, 'f(α)': falpha})\n",
    "singularity_df.to_csv('espectro.csv', index=False)\n",
    "\n",
    "# Calculate the scaling exponents τ(q)\n",
    "q, tau = singspect.scaling_exponents(lag, dfa, q=q_list)\n",
    "\n",
    "# Plot τ(q) vs q\n",
    "singspect.scaling_exponents_plot(q=q, tau=tau)\n",
    "plt.title(\"Scaling Exponents τ(q) vs q\")\n",
    "plt.savefig(\"tau.png\")  # Save the plot to a file\n",
    "\n",
    "# Save scaling exponents to a CSV file\n",
    "scaling_df = pd.DataFrame({'q': q, 'τ(q)': tau})\n",
    "scaling_df.to_csv('escala.csv', index=False)\n"
   ]
  }
 ],
 "metadata": {
  "kernelspec": {
   "display_name": "Python 3 (ipykernel)",
   "language": "python",
   "name": "python3"
  },
  "language_info": {
   "codemirror_mode": {
    "name": "ipython",
    "version": 3
   },
   "file_extension": ".py",
   "mimetype": "text/x-python",
   "name": "python",
   "nbconvert_exporter": "python",
   "pygments_lexer": "ipython3",
   "version": "3.12.5"
  }
 },
 "nbformat": 4,
 "nbformat_minor": 5
}
