{
 "cells": [
  {
   "cell_type": "code",
   "execution_count": null,
   "id": "439dae62-90a3-432f-8701-d141c12da4fe",
   "metadata": {},
   "outputs": [],
   "source": [
    "from matplotlib import pyplot as plt\n",
    "from scipy import stats\n",
    "import numpy as np\n",
    "import pandas as pd\n",
    "\n",
    "# Initialize an empty list to store numerical values representing the DNA sequence\n",
    "pontos1 = []\n",
    "\n",
    "# Load the DNA sequence data from the input file\n",
    "# Replace with the appropriate file path for different datasets\n",
    "f1 = open(\"2466204|2021-04-08/2466204|2021-04-08\")\n",
    "s1 = f1.read()\n",
    "\n",
    "# Extract the DNA sequence (removing the header if present)\n",
    "data1 = \"\".join(s1.split(\"\\n\")[1:])  # Join all lines except the first one\n",
    "\n",
    "# Convert the DNA sequence from letters (a, c, g, t) to numerical values\n",
    "# Assign specific numerical values to each nucleotide:\n",
    "# Adenine (a) -> 2, Cytosine (c) -> -2, Guanine (g) -> 1, Thymine (t) -> -1\n",
    "for i in data1:\n",
    "    if i == \"a\":\n",
    "        pontos1.append(2)\n",
    "    if i == \"c\":\n",
    "        pontos1.append(-2)\n",
    "    if i == \"g\":\n",
    "        pontos1.append(1)\n",
    "    if i == \"t\":\n",
    "        pontos1.append(-1)\n",
    "\n",
    "# Print basic information about the DNA sequence\n",
    "print(\"Length:\", len(data1))  # Total length of the sequence\n",
    "print(\"Adenine (a):\", data1.count(\"a\"))  # Count of 'a'\n",
    "print(\"Cytosine (c):\", data1.count(\"c\"))  # Count of 'c'\n",
    "print(\"Guanine (g):\", data1.count(\"g\"))  # Count of 'g'\n",
    "print(\"Thymine (t):\", data1.count(\"t\"))  # Count of 't'\n",
    "print(\"Unknown (n):\", data1.count(\"n\"))  # Count of unknown nucleotides 'n'\n",
    "\n"
   ]
  },
  {
   "cell_type": "code",
   "execution_count": null,
   "id": "b6400dbc-193c-4517-a9e1-8aed6578b1c8",
   "metadata": {},
   "outputs": [],
   "source": [
    "# Initialize a new list to store the cumulative sum (random walk trace)\n",
    "vetory1 = []\n",
    "soma1 = 0\n",
    "\n",
    "# Calculate the cumulative sum to simulate a random walk\n",
    "for j in pontos1:\n",
    "    soma1 += j  # Add the numerical value to the cumulative sum\n",
    "    vetory1.append(soma1)  # Append the cumulative sum to the trace list\n",
    "\n",
    "# Compute and print key statistical data about the random walk\n",
    "print(\"Key statistical data:\", stats.describe(vetory1))\n",
    "\n",
    "# Save the random walk trace to a text file\n",
    "np.savetxt(\"caminhada.txt\", np.array(vetory1), fmt=\"%i\")  # Save as integers\n"
   ]
  },
  {
   "cell_type": "code",
   "execution_count": null,
   "id": "ecc3b87d-403c-4c1c-8fc1-be4baa7ebdd8",
   "metadata": {},
   "outputs": [],
   "source": [
    "# Plot the random walk trace\n",
    "plt.plot(vetory1, color=\"indigo\")  # Plot the trace with an indigo line\n",
    "plt.axhline(y=0, xmin=0, xmax=len(vetory1), color=\"black\", linestyle=\"--\")  # Add a horizontal line at y=0\n",
    "plt.xlabel(\"n\")  # Label for the x-axis\n",
    "plt.ylabel(\"Random Walk Trace\")  # Label for the y-axis\n",
    "plt.savefig(\"caminhada.png\")  # Save the plot as an image file\n",
    "plt.show()  # Display the plot\n"
   ]
  }
 ],
 "metadata": {
  "kernelspec": {
   "display_name": "Python 3 (ipykernel)",
   "language": "python",
   "name": "python3"
  },
  "language_info": {
   "codemirror_mode": {
    "name": "ipython",
    "version": 3
   },
   "file_extension": ".py",
   "mimetype": "text/x-python",
   "name": "python",
   "nbconvert_exporter": "python",
   "pygments_lexer": "ipython3",
   "version": "3.12.5"
  }
 },
 "nbformat": 4,
 "nbformat_minor": 5
}
